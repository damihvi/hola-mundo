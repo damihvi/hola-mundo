{
  "nbformat": 4,
  "nbformat_minor": 0,
  "metadata": {
    "colab": {
      "provenance": [],
      "authorship_tag": "ABX9TyO9B66gwh3kHP2r6w+Lx7uV",
      "include_colab_link": true
    },
    "kernelspec": {
      "name": "python3",
      "display_name": "Python 3"
    },
    "language_info": {
      "name": "python"
    }
  },
  "cells": [
    {
      "cell_type": "markdown",
      "metadata": {
        "id": "view-in-github",
        "colab_type": "text"
      },
      "source": [
        "<a href=\"https://colab.research.google.com/github/damihvi/hola-mundo/blob/main/B_T2_HERRERA_DAMIAN.ipynb\" target=\"_parent\"><img src=\"https://colab.research.google.com/assets/colab-badge.svg\" alt=\"Open In Colab\"/></a>"
      ]
    },
    {
      "cell_type": "code",
      "execution_count": null,
      "metadata": {
        "id": "OJKhBMHefkXC"
      },
      "outputs": [],
      "source": []
    },
    {
      "cell_type": "markdown",
      "source": [
        "TRABAJO 2 - TIC\n"
      ],
      "metadata": {
        "id": "1SiaHJW8f4JZ"
      }
    },
    {
      "cell_type": "code",
      "source": [
        "print(\"hola mundo\")\n"
      ],
      "metadata": {
        "id": "bJ0xuOQff8aR"
      },
      "execution_count": null,
      "outputs": []
    },
    {
      "cell_type": "code",
      "source": [
        "#los int input son para ingresar un dato y que sea considerado numero y no texto\n",
        "a = int(input(\"ingrese un numero\"))\n",
        "b =  int(input(\"ingrese un numero\"))\n",
        "#el literal c hace la suma de los 2 datos ingresados\n",
        "c = a + b\n",
        "#el print muestra la respuesta en la consola\n",
        "print(\"la suma es \", c)"
      ],
      "metadata": {
        "colab": {
          "base_uri": "https://localhost:8080/"
        },
        "id": "Sm_aqogsgJ7a",
        "outputId": "b1129666-f98c-4765-c7b9-182c7543254f"
      },
      "execution_count": 2,
      "outputs": [
        {
          "output_type": "stream",
          "name": "stdout",
          "text": [
            "ingrese un numero12\n",
            "ingrese un numero1\n",
            "la suma es  13\n"
          ]
        }
      ]
    },
    {
      "cell_type": "code",
      "source": [
        "#el int input es para ingresar un dato y que sea considerado numero y no texto\n",
        "\n",
        "numero = int(input(\"Por favor, ingresa un número entero: \"))\n",
        "#operacion, el if es una condicion que si no se cumple pasa a la siguiente linea\n",
        "#el % es para dividir con residuo y el == para saber si el numero es igual\n",
        "if numero % 2 == 0:\n",
        "    print(f\"El número {numero} es par.\")\n",
        "else:\n",
        "    print(f\"El número {numero} es impar.\")"
      ],
      "metadata": {
        "colab": {
          "base_uri": "https://localhost:8080/"
        },
        "id": "dPB6UuLSgwiD",
        "outputId": "535dfe80-ffea-4496-e817-13b161f12ddb"
      },
      "execution_count": 3,
      "outputs": [
        {
          "output_type": "stream",
          "name": "stdout",
          "text": [
            "Por favor, ingresa un número entero: 45\n",
            "El número 45 es impar.\n"
          ]
        }
      ]
    },
    {
      "cell_type": "code",
      "source": [
        "\n",
        "#los int input son para ingresar un dato y que sea considerado numero y no texto\n",
        "numero1 = int(input(\"ingresa el primer número: \"))\n",
        "numero2 = int(input(\"ingresa el segundo número: \"))\n",
        "\n",
        "#estas son las variables de las operaciones\n",
        "suma = numero1 + numero2\n",
        "resta = numero1 - numero2\n",
        "multiplicacion = numero1 * numero2\n",
        "\n",
        "# si el numero 2 es diferente de 0 se ejecuta la operacion caso contrario muestra no se puede dividir\n",
        "\n",
        "if numero2 != 0:\n",
        "    division = numero1 / numero2\n",
        "else:\n",
        "    division = \"No se puede dividir entre cero.\"\n",
        "\n",
        "print(\"Resultados:\")\n",
        "print(f\"Suma: {suma}\")\n",
        "print(f\"Resta: {resta}\")\n",
        "print(f\"Multiplicación: {multiplicacion}\")\n",
        "print(f\"División: {division}\")\n"
      ],
      "metadata": {
        "id": "nh0FP8c8hENZ"
      },
      "execution_count": null,
      "outputs": []
    },
    {
      "cell_type": "code",
      "source": [
        "numero1 = float(input(\"ingrese el primer número: \"))\n",
        "numero2 = float(input(\"ingrese el segundo número: \"))\n",
        "numero3 = float(input(\"ingrese el tercer número: \"))\n",
        "#el mayor = numero1 se usa para que tome como mayor la primera variable o el primer numero ingresado\n",
        "mayor = numero1\n",
        "#esta condicion se usa para comparar el numero 2 con el numero 1 si es mayor este lo reemplaza y asi mismo con el numero3\n",
        "if numero2 > mayor:\n",
        "    mayor = numero2\n",
        "if numero3 > mayor:\n",
        "    mayor = numero3\n",
        "\n",
        "print(f\"El número mayor es: {mayor}\")"
      ],
      "metadata": {
        "id": "JgiQmYnghiFq"
      },
      "execution_count": null,
      "outputs": []
    },
    {
      "cell_type": "code",
      "source": [
        "import math\n",
        "# Solicitar  el radio del círculo\n",
        "radio = float(input(\"Por favor, ingresa el radio del círculo: \"))\n",
        "\n",
        "# Calcular el área, área = pi * radio^2, el ** se usa para hacer potencia o exponencial\n",
        "area = math.pi * radio**2\n",
        "\n",
        "# Mostrar el resultado\n",
        "print(f\"El área del círculo con radio {radio} es: {area}\")\n",
        "\n"
      ],
      "metadata": {
        "colab": {
          "base_uri": "https://localhost:8080/"
        },
        "id": "3nXqYyDRkrgY",
        "outputId": "80a48404-5c92-48f0-a4d0-71d2e58d2745"
      },
      "execution_count": 4,
      "outputs": [
        {
          "output_type": "stream",
          "name": "stdout",
          "text": [
            "Por favor, ingresa el radio del círculo: 78\n",
            "El área del círculo con radio 78.0 es: 19113.4497044403\n"
          ]
        }
      ]
    },
    {
      "cell_type": "code",
      "source": [
        "grados_celsius = float(input(\"ingrese los grados a convertir: \"))\n",
        "\n",
        "#se multiplican los grados celsius por su formula\n",
        "grados_fahrenheit = (grados_celsius * 9/5) + 32\n",
        "\n",
        "print(\"los grados convertidos son: \",grados_fahrenheit )"
      ],
      "metadata": {
        "colab": {
          "base_uri": "https://localhost:8080/"
        },
        "id": "1srIlUI5meQb",
        "outputId": "04cf2887-bc85-4cb9-eaa4-c04547c5c117"
      },
      "execution_count": 5,
      "outputs": [
        {
          "output_type": "stream",
          "name": "stdout",
          "text": [
            "ingrese los grados a convertir: 128\n",
            "los grados convertidos son:  262.4\n"
          ]
        }
      ]
    },
    {
      "cell_type": "code",
      "source": [
        "# Definir la función que hace la cuenta\n",
        "def contar_hacia_atras():\n",
        "    # definir el rango desde 10 hasta 0\n",
        "    for i in range(10, 0, -1):\n",
        "        print(i)  # Imprimir el número actual\n",
        "# Llamar a la función para ejecutar el conteo hacia atrás\n",
        "contar_hacia_atras()\n"
      ],
      "metadata": {
        "colab": {
          "base_uri": "https://localhost:8080/"
        },
        "id": "_4pgmPOknZrQ",
        "outputId": "e544c025-7249-4017-d0e9-6688b99a371d"
      },
      "execution_count": 6,
      "outputs": [
        {
          "output_type": "stream",
          "name": "stdout",
          "text": [
            "10\n",
            "9\n",
            "8\n",
            "7\n",
            "6\n",
            "5\n",
            "4\n",
            "3\n",
            "2\n",
            "1\n"
          ]
        }
      ]
    },
    {
      "cell_type": "code",
      "source": [
        "def tabla_de_multiplicar(numero):\n",
        "    print(f\"Tabla de multiplicar del {numero}:\")\n",
        "    for i in range(1, 11):  # definir rango desde 1 hasta 10\n",
        "        resultado = numero * i  # Calcular el resultado de la multiplicación\n",
        "        print(f\"{numero} x {i} = {resultado}\")  # Mostrar la multiplicación\n",
        "\n",
        "# Pedir al usuario que introduzca un número\n",
        "numero_ingresado = int(input(\"Introduce un número para mostrar su tabla de multiplicar: \"))\n",
        "\n",
        "# Llamar a la función para mostrar la tabla de multiplicar del número introducido\n",
        "tabla_de_multiplicar(numero_ingresado)\n"
      ],
      "metadata": {
        "colab": {
          "base_uri": "https://localhost:8080/"
        },
        "id": "GWOVvdJ8oYWb",
        "outputId": "97dc3692-589d-4db3-de44-e807ef4f6219"
      },
      "execution_count": 7,
      "outputs": [
        {
          "output_type": "stream",
          "name": "stdout",
          "text": [
            "Introduce un número para mostrar su tabla de multiplicar: 4\n",
            "Tabla de multiplicar del 4:\n",
            "4 x 1 = 4\n",
            "4 x 2 = 8\n",
            "4 x 3 = 12\n",
            "4 x 4 = 16\n",
            "4 x 5 = 20\n",
            "4 x 6 = 24\n",
            "4 x 7 = 28\n",
            "4 x 8 = 32\n",
            "4 x 9 = 36\n",
            "4 x 10 = 40\n"
          ]
        }
      ]
    },
    {
      "cell_type": "code",
      "source": [
        "# Pedir un número\n",
        "numero_usuario = int(input(\"Introduce un número para verificar si es primo: \"))\n",
        "\n",
        "# Verificar si el número es primo\n",
        "if numero_usuario > 1:\n",
        "    # Iterar desde 2 hasta la mitad del número\n",
        "    for i in range(2, numero_usuario):\n",
        "        if (numero_usuario % i) == 0:\n",
        "            print(f\"{numero_usuario} no es un número primo.\")\n",
        "            break\n",
        "    else:\n",
        "        print(f\"{numero_usuario} es un número primo.\")\n",
        "else:\n",
        "    print(f\"{numero_usuario} no es un número primo.\")"
      ],
      "metadata": {
        "id": "8zt25KUUpIF0"
      },
      "execution_count": null,
      "outputs": []
    },
    {
      "cell_type": "code",
      "source": [
        "# Pedir al usuario un número límite\n",
        "limite = int(input(\"Introduce un número límite: \"))\n",
        "\n",
        "# Inicializar la variable para almacenar la suma\n",
        "suma = 0\n",
        "\n",
        "# Iterar desde 1 hasta el número límite\n",
        "for i in range(1, limite + 1):\n",
        "    suma += i  # Sumar el número actual a la suma total\n",
        "\n",
        "# Mostrar la suma de los números naturales hasta el número límite\n",
        "print(f\"La suma de todos los números naturales hasta {limite} es: {suma}\")\n",
        "\n"
      ],
      "metadata": {
        "id": "noy3e_efpXkO"
      },
      "execution_count": null,
      "outputs": []
    },
    {
      "cell_type": "code",
      "source": [
        "# Pedir al usuario una cadena\n",
        "cadena = input(\"Introduce una cadena para invertirla: \")\n",
        "\n",
        "# Inicializar una cadena vacía para almacenar la cadena invertida\n",
        "cadena_invertida = \"\"\n",
        "\n",
        "# Iterar a través de la cadena en orden inverso\n",
        "for i in range(len(cadena) - 1, -1, -1):\n",
        "    cadena_invertida += cadena[i]  # Agregar el carácter actual al final de la cadena invertida\n",
        "\n",
        "# Mostrar la cadena invertida\n",
        "print(\"La cadena invertida es:\", cadena_invertida)\n"
      ],
      "metadata": {
        "id": "NNFFRG06ph-2"
      },
      "execution_count": null,
      "outputs": []
    },
    {
      "cell_type": "code",
      "source": [
        "# Pedir una cadena\n",
        "cadena = input(\"Introduce una cadena: \")\n",
        "\n",
        "# Inicializar contador de vocales\n",
        "contador_vocales = 0\n",
        "\n",
        "# Iterar sobre cada carácter en la cadena\n",
        "for caracter in cadena:\n",
        "    # Verificar si el carácter es una vocal (mayúscula o minúscula)\n",
        "    if caracter.lower() in \"aeiouáéíóú\":\n",
        "        # Incrementar el contador de vocales\n",
        "        contador_vocales += 1\n",
        "\n",
        "# Imprimir el resultado\n",
        "print(\"El número de vocales en la cadena es:\", contador_vocales)\n"
      ],
      "metadata": {
        "id": "fydrfHdFqjBt"
      },
      "execution_count": null,
      "outputs": []
    },
    {
      "cell_type": "code",
      "source": [
        "# Pedir una cadena\n",
        "cadena = input(\"Introduce una cadena: \")\n",
        "\n",
        "# Eliminar espacios en blanco y convertir la cadena a minúsculas\n",
        "cadena = cadena.replace(\" \", \"\").lower()\n",
        "\n",
        "# Verificar si la cadena es palíndromo\n",
        "if cadena == cadena[::-1]:\n",
        "    print(\"La cadena es un palíndromo.\")\n",
        "else:\n",
        "    print(\"La cadena no es un palíndromo.\")\n",
        "\n"
      ],
      "metadata": {
        "id": "D5_3egI2rOCf"
      },
      "execution_count": null,
      "outputs": []
    },
    {
      "cell_type": "code",
      "source": [
        "import random\n",
        "\n",
        "# Generar y mostrar 5 números aleatorios entre 1 y 100\n",
        "for _ in range(5):\n",
        "    numero_aleatorio = random.randint(1, 100)\n",
        "    print(numero_aleatorio)\n"
      ],
      "metadata": {
        "id": "T7g66CQQrwDc"
      },
      "execution_count": null,
      "outputs": []
    },
    {
      "cell_type": "code",
      "source": [
        "# Pedir al usuario su peso en kilogramos\n",
        "peso = float(input(\"Introduce tu peso en kilogramos: \"))\n",
        "\n",
        "# Pedir al usuario su altura en metros\n",
        "altura = float(input(\"Introduce tu altura en metros: \"))\n",
        "\n",
        "# Calcular el índice de masa corporal\n",
        "imc = peso / (altura ** 2)\n",
        "\n",
        "# Mostrar el resultado\n",
        "print(\"Tu índice de masa corporal (IMC) es:\", imc)\n"
      ],
      "metadata": {
        "id": "AMBxnrs2taar"
      },
      "execution_count": null,
      "outputs": []
    }
  ]
}